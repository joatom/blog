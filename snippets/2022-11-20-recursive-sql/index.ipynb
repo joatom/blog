{
 "cells": [
  {
   "cell_type": "raw",
   "id": "84e69567-b7e5-4e63-af74-f2e01c75da89",
   "metadata": {},
   "source": [
    "---\n",
    "title: \"Recursive SQL\"\n",
    "description: Looping in SQL\n",
    "date: 2022-11-20\n",
    "comments:\n",
    "  utterances:\n",
    "    repo: joatom/blog \n",
    "author: Johannes Tomasoni\n",
    "from: markdown+emoji\n",
    "categories: [SQL, Sqlite, Oracle, SQL Magic]\n",
    "keep-ipynb: true\n",
    "\n",
    "---"
   ]
  },
  {
   "cell_type": "code",
   "execution_count": 1,
   "id": "a338f4e2-e9e0-45d2-a685-3cfe53df026f",
   "metadata": {
    "tags": []
   },
   "outputs": [
    {
     "name": "stdout",
     "output_type": "stream",
     "text": [
      "main: /home/git_repos/blog/snippets/2022-11-20-recursive-sql/fin.db r/w\n"
     ]
    }
   ],
   "source": [
    "!sqlite3 fin.db .databases .quit"
   ]
  },
  {
   "cell_type": "code",
   "execution_count": 2,
   "id": "a1463b96-f5ac-4692-83ec-05a8658f1b80",
   "metadata": {
    "tags": []
   },
   "outputs": [],
   "source": [
    "import sqlite3\n",
    "import sqlalchemy"
   ]
  },
  {
   "cell_type": "code",
   "execution_count": 3,
   "id": "d9ae2590-8775-4d34-aa8f-c94d52bec143",
   "metadata": {
    "tags": []
   },
   "outputs": [],
   "source": [
    "# enable sql magic for Jupyter notebook\n",
    "\n",
    "# load jupyter extention (requires pip install ipython-sql)\n",
    "%load_ext sql\n",
    "# disable autocommit\n",
    "%config SqlMagic.autocommit=False"
   ]
  },
  {
   "cell_type": "code",
   "execution_count": 4,
   "id": "8e270aa2-50f8-4b58-a4b9-b6bae68d0331",
   "metadata": {
    "tags": []
   },
   "outputs": [
    {
     "name": "stdout",
     "output_type": "stream",
     "text": [
      " * sqlite:///rec.db\n",
      "Done.\n",
      "Returning data to local variable df_test\n"
     ]
    }
   ],
   "source": [
    "%sql sqlite:///rec.db\n",
    "    \n",
    "# Test connection\n",
    "v1 = \"Ready to go!\"\n",
    "%sql df_test << SELECT :v1 as \"Test\"\n",
    "assert(df_test.DataFrame().values[0]==v1)"
   ]
  },
  {
   "cell_type": "markdown",
   "id": "71241bf8-339b-4354-991f-41ac40fbf026",
   "metadata": {},
   "source": [
    "# Running a recursive query\n",
    "\n",
    "This is an example from the blog post [Pay off Mortgage or Invest](../../posts/2022-11-13-repay-vs-invest/index.html). It calculates a simple amortization plan. The recursion stops as soon as the balance reaches *0*."
   ]
  },
  {
   "cell_type": "code",
   "execution_count": 7,
   "id": "33a1639f-55d0-46be-bca3-98650b73eb9e",
   "metadata": {
    "tags": []
   },
   "outputs": [
    {
     "name": "stdout",
     "output_type": "stream",
     "text": [
      " * sqlite:///rec.db\n",
      "Done.\n"
     ]
    },
    {
     "data": {
      "text/html": [
       "<table>\n",
       "    <tr>\n",
       "        <th>year</th>\n",
       "        <th>interest</th>\n",
       "        <th>principal</th>\n",
       "        <th>balance</th>\n",
       "    </tr>\n",
       "    <tr>\n",
       "        <td>0</td>\n",
       "        <td>None</td>\n",
       "        <td>None</td>\n",
       "        <td>-100000.0</td>\n",
       "    </tr>\n",
       "    <tr>\n",
       "        <td>1</td>\n",
       "        <td>-2000.0</td>\n",
       "        <td>8000.0</td>\n",
       "        <td>-92000.0</td>\n",
       "    </tr>\n",
       "    <tr>\n",
       "        <td>2</td>\n",
       "        <td>-1840.0</td>\n",
       "        <td>8160.0</td>\n",
       "        <td>-83840.0</td>\n",
       "    </tr>\n",
       "    <tr>\n",
       "        <td>3</td>\n",
       "        <td>-1677.0</td>\n",
       "        <td>8323.0</td>\n",
       "        <td>-75517.0</td>\n",
       "    </tr>\n",
       "    <tr>\n",
       "        <td>4</td>\n",
       "        <td>-1510.0</td>\n",
       "        <td>8490.0</td>\n",
       "        <td>-67027.0</td>\n",
       "    </tr>\n",
       "    <tr>\n",
       "        <td>5</td>\n",
       "        <td>-1341.0</td>\n",
       "        <td>8659.0</td>\n",
       "        <td>-58368.0</td>\n",
       "    </tr>\n",
       "    <tr>\n",
       "        <td>6</td>\n",
       "        <td>-1167.0</td>\n",
       "        <td>8833.0</td>\n",
       "        <td>-49535.0</td>\n",
       "    </tr>\n",
       "    <tr>\n",
       "        <td>7</td>\n",
       "        <td>-991.0</td>\n",
       "        <td>9009.0</td>\n",
       "        <td>-40526.0</td>\n",
       "    </tr>\n",
       "    <tr>\n",
       "        <td>8</td>\n",
       "        <td>-811.0</td>\n",
       "        <td>9189.0</td>\n",
       "        <td>-31336.0</td>\n",
       "    </tr>\n",
       "    <tr>\n",
       "        <td>9</td>\n",
       "        <td>-627.0</td>\n",
       "        <td>9373.0</td>\n",
       "        <td>-21963.0</td>\n",
       "    </tr>\n",
       "    <tr>\n",
       "        <td>10</td>\n",
       "        <td>-439.0</td>\n",
       "        <td>9561.0</td>\n",
       "        <td>-12402.0</td>\n",
       "    </tr>\n",
       "    <tr>\n",
       "        <td>11</td>\n",
       "        <td>-248.0</td>\n",
       "        <td>9752.0</td>\n",
       "        <td>-2650.0</td>\n",
       "    </tr>\n",
       "    <tr>\n",
       "        <td>12</td>\n",
       "        <td>-53.0</td>\n",
       "        <td>2650.0</td>\n",
       "        <td>0.0</td>\n",
       "    </tr>\n",
       "</table>"
      ],
      "text/plain": [
       "[(0, None, None, -100000.0),\n",
       " (1, -2000.0, 8000.0, -92000.0),\n",
       " (2, -1840.0, 8160.0, -83840.0),\n",
       " (3, -1677.0, 8323.0, -75517.0),\n",
       " (4, -1510.0, 8490.0, -67027.0),\n",
       " (5, -1341.0, 8659.0, -58368.0),\n",
       " (6, -1167.0, 8833.0, -49535.0),\n",
       " (7, -991.0, 9009.0, -40526.0),\n",
       " (8, -811.0, 9189.0, -31336.0),\n",
       " (9, -627.0, 9373.0, -21963.0),\n",
       " (10, -439.0, 9561.0, -12402.0),\n",
       " (11, -248.0, 9752.0, -2650.0),\n",
       " (12, -53.0, 2650.0, 0.0)]"
      ]
     },
     "execution_count": 7,
     "metadata": {},
     "output_type": "execute_result"
    }
   ],
   "source": [
    "%%sql\n",
    "with plan(year, interest, principal, balance) as\n",
    "(\n",
    "    SELECT 0 AS year,\n",
    "           NULL AS interest,\n",
    "           NULL AS principal,\n",
    "           100000 AS balance\n",
    "    UNION\n",
    "    SELECT p.year + 1 AS year,\n",
    "           -p.balance * 0.02 AS interest,\n",
    "           MIN(10000 - p.balance * 0.02, p.balance) AS principal,\n",
    "           p.balance - (min(10000 - p.balance * 0.02, p.balance)) AS balance\n",
    "      FROM plan p\n",
    "     WHERE p.balance - (min(10000 - p.balance * 0.02, p.balance) + 0) >= 0 \n",
    "       AND MIN(10000 - p.balance * 0.02, p.balance) > 0 \n",
    ")\n",
    "SELECT year,\n",
    "       round(interest) AS interest, \n",
    "       round(principal) AS principal,  \n",
    "       round(-balance) AS balance\n",
    "  FROM plan"
   ]
  },
  {
   "cell_type": "markdown",
   "id": "6ddcb66c-0041-4dc7-9220-286b1b8774de",
   "metadata": {},
   "source": [
    "# Ressources\n",
    "## Interactive notebook\n",
    "- Play with the numbers: [![notebook]('../../../../assets/colab.svg?sanitize=true')](https://colab.research.google.com/github/joatom/blog/blob/master/docs/snippets/2022-11-20-recursive-sql/index.ipynb)\n",
    "- Downloading the notebook: [![notebook]('../../../../assets/github.svg?sanitize=true')](https://colab.research.google.com/github/joatom/blog/blob/master/docs/snippets/2022-11-20-recursive-sql/index.ipynb)\n",
    "\n",
    "## Related Blog\n",
    "- [Pay off Mortgage or Invest](../../posts/2022-11-13-repay-vs-invest/index.html)"
   ]
  },
  {
   "cell_type": "code",
   "execution_count": null,
   "id": "6ba99ffc-9d40-4516-a2c1-14b5afd1a14a",
   "metadata": {},
   "outputs": [],
   "source": []
  }
 ],
 "metadata": {
  "kernelspec": {
   "display_name": "Python 3 (ipykernel)",
   "language": "python",
   "name": "python3"
  },
  "language_info": {
   "codemirror_mode": {
    "name": "ipython",
    "version": 3
   },
   "file_extension": ".py",
   "mimetype": "text/x-python",
   "name": "python",
   "nbconvert_exporter": "python",
   "pygments_lexer": "ipython3",
   "version": "3.9.12"
  }
 },
 "nbformat": 4,
 "nbformat_minor": 5
}

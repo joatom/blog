{
 "cells": [
  {
   "cell_type": "raw",
   "metadata": {},
   "source": [
    "---\n",
    "title: \"Notes about Sequence Modelling\"\n",
    "description: \"Predicting Ventilator Pressure Time Series\"\n",
    "toc: true\n",
    "badges: false\n",
    "author: Johannes Tomasoni\n",
    "image: logo_vpp_seq.png\n",
    "categories: [Time Series, ML, Competition]\n",
    "date: 2021-11-22\n",
    "from: markdown+emoji\n",
    "keep-ipynb: true\n",
    "format: \n",
    "  html:\n",
    "    page-layout: full\n",
    "---"
   ]
  },
  {
   "cell_type": "code",
   "execution_count": 5,
   "metadata": {
    "jupyter": {
     "source_hidden": true
    }
   },
   "outputs": [],
   "source": [
    "#|include: false\n",
    "\n",
    "import numpy as np\n",
    "from matplotlib import pyplot as plt\n",
    "import seaborn as sns\n",
    "from pathlib import Path\n",
    "\n",
    "import fastai\n",
    "from fastai.data.all import *\n",
    "\n",
    "import torch\n",
    "\n",
    "from fastai.basics import *\n",
    "from fastai.callback.all import *\n",
    "\n",
    "from sklearn.model_selection import GroupKFold\n",
    "from sklearn.preprocessing import RobustScaler\n",
    "\n",
    "from torch.nn import functional as F\n",
    "import pandas as pd"
   ]
  },
  {
   "cell_type": "markdown",
   "metadata": {},
   "source": [
    "# Notes about Sequence Modelling\n",
    "\n",
    "I lately participated in the [Google Brain - Ventilator Pressure Prediction](https://www.kaggle.com/c/ventilator-pressure-prediction) competition. I didn't score decent, but I still learned a lot. And some of it is worth to sum up, so I can easily look it up later.\n",
    "\n",
    "The goal of the competition was to predict airway pressure of lungs that are ventilated in a clinician-intensive procedure. Given values of the input pressure (`u_in`) we had to predict the output `pressure` for a time frame of a few seconds.\n"
   ]
  },
  {
   "cell_type": "code",
   "execution_count": 6,
   "metadata": {
    "jupyter": {
     "source_hidden": true
    }
   },
   "outputs": [],
   "source": [
    "#|include: false\n",
    "\n",
    "BS = 64\n",
    "WORKERS = 4\n",
    "EPOCHS = 5 #100"
   ]
  },
  {
   "cell_type": "code",
   "execution_count": 7,
   "metadata": {
    "jupyter": {
     "source_hidden": true
    }
   },
   "outputs": [],
   "source": [
    "#|include: false\n",
    "\n",
    "in_path = Path('../input')\n",
    "train = pd.read_csv(in_path/'train.csv')"
   ]
  },
  {
   "cell_type": "code",
   "execution_count": 8,
   "metadata": {
    "jupyter": {
     "source_hidden": true
    }
   },
   "outputs": [
    {
     "data": {
      "text/plain": [
       "<AxesSubplot:xlabel='time_step', ylabel='Pressure'>"
      ]
     },
     "execution_count": 8,
     "metadata": {},
     "output_type": "execute_result"
    },
    {
     "data": {
      "image/png": "[encoded data removed]",
      "text/plain": [
       "<Figure size 432x288 with 1 Axes>"
      ]
     },
     "metadata": {
      "needs_background": "light"
     },
     "output_type": "display_data"
    }
   ],
   "source": [
    "#|echo: false\n",
    "\n",
    "sample = train[train.breath_id==1][['time_step', 'u_in', 'pressure']].melt(id_vars= 'time_step', var_name = 'Typ', value_name = 'Pressure')\n",
    "sns.lineplot(x = 'time_step', y = 'Pressure', hue ='Typ', data=sample)"
   ]
  },
  {
   "cell_type": "markdown",
   "metadata": {},
   "source": [
    "Since all `u_in` values for a time frame were given we can build a bidirectional sequence model. Unless in a typical time-series problem where the future points are unknown at a certain time step, we know the future and past input values. Therefore I decided not to *mask* the sequences while training.\n",
    "\n",
    "A good model choice for sequencing tasks are LSTMs and Transformers. I built a model that combines both architectures. I also tried XGBoost with a lot of features (especially windowing, rolling, lead, lag features) engineering, But neural nets (NN) performed better, here. Though I kept some of the engineered features as embeddings for the NN model.\n",
    "\n",
    "The competition metric was mean average error (MAE). Only those pressures were evaluated, that appear while filling the lungs with oxygen.\n"
   ]
  },
  {
   "cell_type": "markdown",
   "metadata": {},
   "source": [
    "## Feature engineering\n",
    "\n",
    "Besides the given features, *u_in*, *u_out*, *R*, *C* and *time_step* I defined several features. They can by categorized as:\n",
    "\n",
    "- area (accumulation of u_in over time) from [this notebook](https://www.kaggle.com/cdeotte/ensemble-folds-with-median-0-153)\n",
    "- one hot encoding of ventilator parameters R and C\n",
    "- statistical (mean, max, skewness, quartiles, rolling mean, ...)\n",
    "- shifted input pressure\n",
    "- input pressure performance over window\n",
    "- inverse features\n",
    "\n",
    "To reduce memory consumption I used a function from [this notebook](https://www.kaggle.com/konradb/tabnet-end-to-end-starter)."
   ]
  },
  {
   "cell_type": "code",
   "execution_count": 1,
   "metadata": {},
   "outputs": [],
   "source": [
    "def gen_features(df, norm=False):\n",
    "    \n",
    "    # area feature from https://www.kaggle.com/cdeotte/ensemble-folds-with-median-0-153\n",
    "    df['area'] = df['time_step'] * df['u_in']\n",
    "    df['area_crv'] = (1.5-df['time_step']) * df['u_in']\n",
    "    df['area'] = df.groupby('breath_id')['area'].cumsum()\n",
    "    df['area_crv'] = df.groupby('breath_id')['area_crv'].cumsum()\n",
    "    df['area_inv'] = df.groupby('breath_id')['area'].transform('max') - df['area']\n",
    "    \n",
    "    df['ts'] = df.groupby('breath_id')['id'].rank().astype('int')\n",
    "    \n",
    "    df['R4'] = 1/df['R']**4\n",
    "    df['R'] = df['R'].astype('str')\n",
    "    df['C'] = df['C'].astype('str')\n",
    "    \n",
    "    df = pd.get_dummies(df)\n",
    "    \n",
    "    for in_out in [0,1]: #,1\n",
    "        for qs in [0.2, 0.25, 0.5, 0.9, 0.95]:\n",
    "            df.loc[:, f'u_in_{in_out}_q{str(qs*100)}'] = 0\n",
    "            df.loc[df.u_out==in_out, f'u_in_{in_out}_q{str(qs*100)}'] = df[df.u_out==in_out].groupby('breath_id')['u_in'].transform('quantile', q=0.2)\n",
    "    \n",
    "        for agg_type in ['count', 'std', 'skew','mean', 'min', 'max', 'median', 'last', 'first']:\n",
    "            df.loc[:,f'u_out_{in_out}_{agg_type}'] = 0\n",
    "            df.loc[df.u_out==in_out, f'u_out_{in_out}_{agg_type}'] = df[df.u_out==in_out].groupby('breath_id')['u_in'].transform(agg_type)\n",
    "    \n",
    "        if norm:\n",
    "            df.loc[:,f'u_in'] = (df.u_in - df[f'u_out_{in_out}_mean']) / (df[f'u_out_{in_out}_std']+1e-6)\n",
    "    \n",
    "    \n",
    "    for s in range(1,8):\n",
    "        df.loc[:,f'shift_u_in_{s}'] = 0\n",
    "        df.loc[:,f'shift_u_in_{s}'] = df.groupby('breath_id')['u_in'].shift(s)\n",
    "        df.loc[:,f'shift_u_in_m{s}'] = 0\n",
    "        df.loc[:,f'shift_u_in_m{s}'] = df.groupby('breath_id')['u_in'].shift(-s)\n",
    "    \n",
    "    df.loc[:,'perf1'] = (df.u_in / df.shift_u_in_1).clip(-2,2)\n",
    "    df.loc[:,'perf3'] = (df.u_in / df.shift_u_in_3).clip(-2,2)\n",
    "    df.loc[:,'perf5'] = (df.u_in / df.shift_u_in_5).clip(-2,2)\n",
    "    df.loc[:,'perf7'] = (df.u_in / df.shift_u_in_7).clip(-2,2)\n",
    "    \n",
    "    df.loc[:,'perf1'] = df.perf1-1\n",
    "    df.loc[:,'perf3'] = df.perf3-1\n",
    "    df.loc[:,'perf5'] = df.perf5-1\n",
    "    df.loc[:,'perf7'] = df.perf7-1\n",
    "    \n",
    "    df.loc[:,'perf1inv'] = (df.u_in / df.shift_u_in_m1).clip(-2,2)\n",
    "    df.loc[:,'perf3inv'] = (df.u_in / df.shift_u_in_m3).clip(-2,2)\n",
    "    df.loc[:,'perf5inv'] = (df.u_in / df.shift_u_in_m5).clip(-2,2)\n",
    "    df.loc[:,'perf7inv'] = (df.u_in / df.shift_u_in_m7).clip(-2,2)\n",
    "    \n",
    "    df.loc[:,'perf1inv'] = df.perf1inv-1\n",
    "    df.loc[:,'perf3inv'] = df.perf3inv-1\n",
    "    df.loc[:,'perf5inv'] = df.perf5inv-1\n",
    "    df.loc[:,'perf7inv'] = df.perf7inv-1\n",
    "    \n",
    "    df.loc[:,'rol_mean5'] = df.u_in.rolling(5).mean()\n",
    "    \n",
    "    return df"
   ]
  },
  {
   "cell_type": "code",
   "execution_count": 10,
   "metadata": {
    "jupyter": {
     "source_hidden": true
    }
   },
   "outputs": [],
   "source": [
    "#|include: false\n",
    "\n",
    "# from https://www.kaggle.com/konradb/tabnet-end-to-end-starter\n",
    "\n",
    "def reduce_memory_usage(df):\n",
    "    \n",
    "    start_memory = np.round(df.memory_usage().sum() / 1024**2,2)\n",
    "    print(f\"Memory usage of dataframe is {start_memory} MB\")\n",
    "    \n",
    "    for col in df.columns:\n",
    "        col_type = df[col].dtype\n",
    "        \n",
    "        if col_type != 'object':\n",
    "            c_min = df[col].min()\n",
    "            c_max = df[col].max()\n",
    "            \n",
    "            if str(col_type)[:3] == 'int':\n",
    "                if c_min > np.iinfo(np.int8).min and c_max < np.iinfo(np.int8).max:\n",
    "                    df[col] = df[col].astype(np.int8)\n",
    "                elif c_min > np.iinfo(np.int16).min and c_max < np.iinfo(np.int16).max:\n",
    "                    df[col] = df[col].astype(np.int16)\n",
    "                elif c_min > np.iinfo(np.int32).min and c_max < np.iinfo(np.int32).max:\n",
    "                    df[col] = df[col].astype(np.int32)\n",
    "                elif c_min > np.iinfo(np.int64).min and c_max < np.iinfo(np.int64).max:\n",
    "                    df[col] = df[col].astype(np.int64)\n",
    "            \n",
    "            else:\n",
    "                if c_min > np.finfo(np.float16).min and c_max < np.finfo(np.float16).max:\n",
    "                    df[col] = df[col].astype(np.float16)\n",
    "                elif c_min > np.finfo(np.float32).min and c_max < np.finfo(np.float32).max:\n",
    "                    df[col] = df[col].astype(np.float32)\n",
    "                else:\n",
    "                    pass\n",
    "        else:\n",
    "            df[col] = df[col].astype('category')\n",
    "    \n",
    "    end_memory = np.round(df.memory_usage().sum() / 1024**2,2)\n",
    "    print(f\"Memory usage of dataframe after reduction {end_memory} MB\")\n",
    "    print(f\"Reduced by { np.round(100 * (start_memory - end_memory) / start_memory,2) } % \")\n",
    "    return df"
   ]
  },
  {
   "cell_type": "code",
   "execution_count": 11,
   "metadata": {
    "collapsed": true,
    "jupyter": {
     "outputs_hidden": true,
     "source_hidden": true
    }
   },
   "outputs": [
    {
     "name": "stdout",
     "output_type": "stream",
     "text": [
      "Memory usage of dataframe is 2889.7 MB\n",
      "Memory usage of dataframe after reduction 782.87 MB\n",
      "Reduced by 72.91 % \n"
     ]
    }
   ],
   "source": [
    "#|include: false\n",
    "\n",
    "train = gen_features(train,False).fillna(0)\n",
    "train = reduce_memory_usage(train)"
   ]
  },
  {
   "cell_type": "markdown",
   "metadata": {},
   "source": [
    "### Scaler\n",
    "The data was transformed with *scikit's RobustScaler* to reduce influence of outliers."
   ]
  },
  {
   "cell_type": "code",
   "execution_count": 12,
   "metadata": {},
   "outputs": [],
   "source": [
    "features =  list(set(train.columns)-set(['id','breath_id','pressure','kfold_2021','kfold']))\n",
    "features.sort()\n",
    "\n",
    "rs = RobustScaler().fit(train[features]) "
   ]
  },
  {
   "cell_type": "markdown",
   "metadata": {},
   "source": [
    "## Folds\n",
    "I didn't do cross validation here, but instead trained the final model on the entire dataset. Nevertheless it's helpful to build kfolds for model evaluation. I build GroupKFold over `breath_id` to keep the entire time frame in the same fold."
   ]
  },
  {
   "cell_type": "code",
   "execution_count": 13,
   "metadata": {
    "jupyter": {
     "source_hidden": true
    }
   },
   "outputs": [],
   "source": [
    "#|include: false\n",
    "\n",
    "# Kfold\n",
    "train['kfold'] = -1\n",
    "\n",
    "n_splits = 5\n",
    "#skf = StratifiedKFold(n_splits=n_split, shuffle=True, random_state=2020)\n",
    "skf = GroupKFold(n_splits = n_splits)\n",
    "\n",
    "for fold, (trn, vld) in enumerate(skf.split(X = train, y = train['kfold'], groups = train['breath_id'])):\n",
    "    train.loc[vld, 'kfold'] = fold\n",
    "\n",
    "# train.head()"
   ]
  },
  {
   "cell_type": "markdown",
   "metadata": {},
   "source": [
    "## Dataloader\n",
    "\n",
    "Since the data is quite small (ca. 800 MB after memory reduction) I decided to load the entire train set in the `Dataset` object during construction (calling `__init__()`). In a first attempt I loaded the data as *Pandas Dataframe*. Then I figured out (from [this notebook](https://www.kaggle.com/junkoda/pytorch-lstm-with-tensorflow-like-initialization)) that converting the Dataframe into an numpy array speeds up training significantly. The Dataframe is converted to an numpy array by the scaler.\n",
    "\n",
    "Since the competition metric only evaluates the pressures where `u_out==0` I also provide a mask tensor, which can later on be used feeding the loss and metric functions."
   ]
  },
  {
   "cell_type": "code",
   "execution_count": 14,
   "metadata": {},
   "outputs": [],
   "source": [
    "class VPPDataset(torch.utils.data.Dataset):\n",
    "    \n",
    "    def __init__(self,df, scaler, is_train = True, kfolds = [0], features = ['R','C', 'time_step', 'u_in', 'u_out']):\n",
    "        if is_train:\n",
    "            # build a mask for metric and loss function\n",
    "            self.mask = torch.FloatTensor(1 - df[df['kfold'].isin(kfolds)].u_out.values.reshape(-1,80))\n",
    "            self.target = torch.FloatTensor(df[df['kfold'].isin(kfolds)].pressure.values.reshape(-1,80))\n",
    "            \n",
    "            # calling scaler also converts the dataframe in an numpy array, which results in speed up while training\n",
    "            feature_values = scaler.transform(df[df['kfold'].isin(kfolds)][features]) \n",
    "            \n",
    "            self.df = torch.FloatTensor(feature_values.reshape(-1,80,len(features)))\n",
    "            \n",
    "        else:\n",
    "            self.mask = torch.FloatTensor(1 - df.u_out.values.reshape(-1,80))\n",
    "            \n",
    "            feature_values = scaler.transform(df[features]) \n",
    "            self.df = torch.FloatTensor(feature_values.reshape(-1,80,len(features)))\n",
    "            \n",
    "            self.target = None\n",
    "        \n",
    "        self.features = features\n",
    "        self.is_train = is_train\n",
    "        \n",
    "    def __len__(self):\n",
    "        return self.df.shape[0]\n",
    "        \n",
    "    def __getitem__(self, item):\n",
    "        sample = self.df[item]\n",
    "        mask = self.mask[item]\n",
    "        if self.is_train:\n",
    "            targets = self.target[item]\n",
    "        else:\n",
    "            targets = torch.zeros((1))\n",
    "        \n",
    "        return torch.cat([sample, mask.view(80,1)],dim=1), targets #.float()"
   ]
  },
  {
   "cell_type": "code",
   "execution_count": 15,
   "metadata": {
    "jupyter": {
     "source_hidden": true
    }
   },
   "outputs": [],
   "source": [
    "#|include: false\n",
    "\n",
    "train_ds = VPPDataset(df = train, scaler = rs, is_train = True, kfolds = [1,2,3,4], features =features)\n",
    "valid_ds = VPPDataset(df = train, scaler = rs, is_train = True, kfolds = [0], features =features)\n",
    "\n",
    "train_dl = DataLoader(train_ds, batch_size= BS, shuffle = True, num_workers = WORKERS) \n",
    "valid_dl = DataLoader(valid_ds, batch_size= BS, shuffle = False, num_workers = WORKERS)\n",
    "\n",
    "data = DataLoaders(train_dl, valid_dl).cuda() "
   ]
  },
  {
   "cell_type": "markdown",
   "metadata": {},
   "source": [
    "## Model\n",
    "\n",
    "My model combines a multi layered LSTM and a Transformer Encoder. Additionally I build an AutoEncoder by placing a Transformer Decoder on top of the Transformer encoder. The AutoEncoder predictions are used as auxiliary variables.\n",
    "\n",
    "![](logo_vpp_seq.png)\n",
    "\n",
    "Some further considerations:\n",
    "\n",
    "- I did not use drop out. The reason why it performence worse is discussed [here](https://www.kaggle.com/c/ventilator-pressure-prediction/discussion/276719).\n",
    "- LayerNorm can be used in sequential models but didn't improve my score.\n",
    "\n",
    "The model is influenced by these notebooks:\n",
    "\n",
    "- [Transformer part](https://pytorch.org/tutorials/beginner/transformer_tutorial.html)\n",
    "- [LSTM part](https://www.kaggle.com/theoviel/deep-learning-starter-simple-lstm)\n",
    "- [Parameter initialization](https://www.kaggle.com/junkoda/pytorch-lstm-with-tensorflow-like-initialization)"
   ]
  },
  {
   "cell_type": "code",
   "execution_count": 22,
   "metadata": {},
   "outputs": [],
   "source": [
    "# Influenced by: \n",
    "# Transformer: https://pytorch.org/tutorials/beginner/transformer_tutorial.html\n",
    "# LSTM: https://www.kaggle.com/theoviel/deep-learning-starter-simple-lstm\n",
    "# Parameter init from: https://www.kaggle.com/junkoda/pytorch-lstm-with-tensorflow-like-initialization \n",
    "\n",
    "class VPPEncoder(nn.Module):\n",
    "\n",
    "    def __init__(self, fin = 5, nhead = 8, nhid = 2048, nlayers = 6, seq_len=80, use_decoder = True):\n",
    "        super(VPPEncoder, self).__init__()\n",
    "                 \n",
    "        self.seq_len = seq_len\n",
    "        self.use_decoder = use_decoder\n",
    "        \n",
    "        # number of input features\n",
    "        self.fin = fin\n",
    "                      \n",
    "        #self.tail = nn.Sequential(\n",
    "        #    nn.Linear(self.fin, nhid),\n",
    "        #    #nn.LayerNorm(nhid),\n",
    "        #    nn.SELU(),\n",
    "        #    nn.Linear(nhid, fin),\n",
    "        #    #nn.LayerNorm(nhid),\n",
    "        #    nn.SELU(),\n",
    "        #    #nn.Dropout(0.05),\n",
    "        #)                \n",
    "            \n",
    "        encoder_layers = nn.TransformerEncoderLayer(self.fin, nhead, nhid , activation= 'gelu')\n",
    "        self.transformer_encoder = nn.TransformerEncoder(encoder_layers, nlayers)\n",
    "        \n",
    "        decoder_layers = nn.TransformerDecoderLayer(self.fin, nhead, nhid, activation= 'gelu')\n",
    "        self.transformer_decoder = nn.TransformerDecoder(decoder_layers, nlayers)\n",
    "        \n",
    "        self.lstm_layer = nn.LSTM(fin, nhid, num_layers=3, bidirectional=True)\n",
    "        \n",
    "        \n",
    "        # Head\n",
    "        self.linear1 = nn.Linear(nhid*2+fin , seq_len*2)\n",
    "        self.linear3 = nn.Linear(seq_len*2, 1)\n",
    "       \n",
    "        \n",
    "        self._reinitialize()\n",
    "        \n",
    "\n",
    "    # from https://www.kaggle.com/junkoda/pytorch-lstm-with-tensorflow-like-initialization    \n",
    "    def _reinitialize(self):\n",
    "        \"\"\"\n",
    "        Tensorflow/Keras-like initialization\n",
    "        \"\"\"\n",
    "        for name, p in self.named_parameters():\n",
    "            if 'lstm' in name:\n",
    "                if 'weight_ih' in name:\n",
    "                    nn.init.xavier_uniform_(p.data)\n",
    "                elif 'weight_hh' in name:\n",
    "                    nn.init.orthogonal_(p.data)\n",
    "                elif 'bias_ih' in name:\n",
    "                    p.data.fill_(0)\n",
    "                    # Set forget-gate bias to 1\n",
    "                    n = p.size(0)\n",
    "                    p.data[(n // 4):(n // 2)].fill_(1)\n",
    "                elif 'bias_hh' in name:\n",
    "                    p.data.fill_(0)\n",
    "            elif 'fc' in name:\n",
    "                if 'weight' in name:\n",
    "                    nn.init.xavier_uniform_(p.data,gain=3/4)\n",
    "                elif 'bias' in name:\n",
    "                    p.data.fill_(0)\n",
    "  \n",
    "\n",
    "    def forward(self, x):\n",
    "        out = x[:,:,:-1]\n",
    "        \n",
    "        out = out.permute(1,0,2)\n",
    "        \n",
    "        out = self.transformer_encoder( out)\n",
    "        out_l,_ = self.lstm_layer(out)\n",
    "        \n",
    "        if self.use_decoder:\n",
    "            out = self.transformer_decoder(out, out) \n",
    "            out_dec_diff = (out - x[:,:,:-1].permute(1,0,2)).abs().mean(dim=2)\n",
    "        else:\n",
    "            out_dec_diff = out*0\n",
    "        \n",
    "        out = torch.cat([out, out_l], dim=2)\n",
    "        \n",
    "        # Head\n",
    "        out = F.gelu(self.linear1(out.permute(1,0,2)))\n",
    "        out = self.linear3(out)\n",
    "\n",
    "        return out.view(-1, self.seq_len) , x[:,:,-1], out_dec_diff.view(-1, self.seq_len)  \n"
   ]
  },
  {
   "cell_type": "markdown",
   "metadata": {},
   "source": [
    "## Metric and Loss Function\n",
    "\n",
    "### Masked MAE metric\n",
    "The competition metric was Mean Absolute Error (MAE), but only for the time-steps where air flows into the lunge (approx. half of the timesteps).\n",
    "Hence, I masked the predictions (using the flag introduced in the Dataset) ignoring the unnecessary time-steps. The flags are passed through the model (`val[1]`) and is an output along with the predictions."
   ]
  },
  {
   "cell_type": "code",
   "execution_count": 17,
   "metadata": {},
   "outputs": [],
   "source": [
    "\n",
    "def vppMetric(val, target):\n",
    "    flag = val[1]\n",
    "    \n",
    "    preds = val[0]\n",
    "    \n",
    "    loss = (preds*flag-target*flag).abs()\n",
    "    loss= loss.sum()/flag.sum()\n",
    "    \n",
    "    return loss\n"
   ]
  },
  {
   "cell_type": "markdown",
   "metadata": {},
   "source": [
    "Thee values produced by the AutoGenerater are additionally measured by the `vppGenMetric`. It uses MAE to evaluate how good the reconstruction of the input features values evolves."
   ]
  },
  {
   "cell_type": "code",
   "execution_count": 18,
   "metadata": {},
   "outputs": [],
   "source": [
    "\n",
    "def vppGenMetric(val, target):\n",
    "    gen =val[2]\n",
    "    \n",
    "    flag = val[1]\n",
    "    \n",
    "    loss = (gen*flag).abs()\n",
    "    loss= loss.sum()/flag.sum()\n",
    "    \n",
    "    return loss"
   ]
  },
  {
   "cell_type": "markdown",
   "metadata": {},
   "source": [
    "## Combined Loss function\n",
    "\n",
    "The loss function is a combination of L1-derived-Loss (`vppAutoLoss`) for the predictions and the AutoEncoder-predictions.\n",
    "\n",
    "Due to [this discussion](https://www.kaggle.com/c/ventilator-pressure-prediction/discussion/277690) I did some experiments with variations of Huber and SmoothL1Loss. The later (`vppAutoSmoothL1Loss`) performed better."
   ]
  },
  {
   "cell_type": "code",
   "execution_count": 19,
   "metadata": {},
   "outputs": [],
   "source": [
    "\n",
    "def vppAutoLoss(val, target):\n",
    "    gen =val[2]\n",
    "    \n",
    "    flag = val[1]\n",
    "    \n",
    "    preds = val[0]\n",
    "    \n",
    "    loss = (preds*flag-target*flag).abs() + (gen*flag).abs()*0.2 #\n",
    "    loss= loss.sum()/flag.sum()\n",
    "    \n",
    "    return loss\n",
    "    \n",
    "\n",
    "# Adapting https://pytorch.org/docs/stable/generated/torch.nn.SmoothL1Loss.html#torch.nn.SmoothL1Loss\n",
    "def vppAutoSmoothL1Loss(val, target):\n",
    "    \n",
    "    beta = 2\n",
    "    fct = 0.5\n",
    "    \n",
    "    gen =val[2]\n",
    "    \n",
    "\n",
    "    flag = val[1] \n",
    "    \n",
    "    preds = val[0]\n",
    "    \n",
    "    loss = (preds*flag-target*flag).abs() + (gen*flag).abs()*0.2\n",
    "    \n",
    "    loss = torch.where(loss < beta, (fct*(loss**2))/beta, loss)#-fct*beta)\n",
    "    \n",
    "    # reduction mean**0.5\n",
    "    loss = loss.sum()/flag.sum() #()**0.5\n",
    "    \n",
    "    return loss\n",
    "\n",
    "\n"
   ]
  },
  {
   "cell_type": "markdown",
   "metadata": {},
   "source": [
    "# Training\n",
    "\n",
    "The training was done in mixed precision mode (`to_fp16()`) to speed up training. As optimizer I used *QHAdam*.\n",
    "The best single score I achieved with a 100 epoch `fit_one_cycle` (*CosineAnnealing* with warmup). I also tried more epochs with restart schedules `fit_sgdr` and changing loss functions. But the didn't do better."
   ]
  },
  {
   "cell_type": "code",
   "execution_count": 23,
   "metadata": {},
   "outputs": [
    {
     "data": {
      "text/html": [
       "<table border=\"1\" class=\"dataframe\">\n",
       "  <thead>\n",
       "    <tr style=\"text-align: left;\">\n",
       "      <th>epoch</th>\n",
       "      <th>train_loss</th>\n",
       "      <th>valid_loss</th>\n",
       "      <th>vppMetric</th>\n",
       "      <th>vppGenMetric</th>\n",
       "      <th>time</th>\n",
       "    </tr>\n",
       "  </thead>\n",
       "  <tbody>\n",
       "    <tr>\n",
       "      <td>0</td>\n",
       "      <td>2.204789</td>\n",
       "      <td>3.071832</td>\n",
       "      <td>2.759562</td>\n",
       "      <td>1.561353</td>\n",
       "      <td>02:33</td>\n",
       "    </tr>\n",
       "    <tr>\n",
       "      <td>1</td>\n",
       "      <td>1.472645</td>\n",
       "      <td>1.427370</td>\n",
       "      <td>1.147190</td>\n",
       "      <td>1.400903</td>\n",
       "      <td>02:34</td>\n",
       "    </tr>\n",
       "    <tr>\n",
       "      <td>2</td>\n",
       "      <td>1.130861</td>\n",
       "      <td>1.373204</td>\n",
       "      <td>1.108116</td>\n",
       "      <td>1.325440</td>\n",
       "      <td>02:32</td>\n",
       "    </tr>\n",
       "    <tr>\n",
       "      <td>3</td>\n",
       "      <td>0.864211</td>\n",
       "      <td>0.880435</td>\n",
       "      <td>0.627816</td>\n",
       "      <td>1.263098</td>\n",
       "      <td>02:32</td>\n",
       "    </tr>\n",
       "    <tr>\n",
       "      <td>4</td>\n",
       "      <td>0.788929</td>\n",
       "      <td>0.765516</td>\n",
       "      <td>0.516083</td>\n",
       "      <td>1.247169</td>\n",
       "      <td>02:37</td>\n",
       "    </tr>\n",
       "  </tbody>\n",
       "</table>"
      ],
      "text/plain": [
       "<IPython.core.display.HTML object>"
      ]
     },
     "metadata": {},
     "output_type": "display_data"
    },
    {
     "data": {
      "image/png": "[encoded data removed]",
      "text/plain": [
       "<Figure size 432x288 with 1 Axes>"
      ]
     },
     "metadata": {},
     "output_type": "display_data"
    }
   ],
   "source": [
    "learn = Learner(data,\n",
    "                VPPEncoder(fin = len(features), nhead = 5, nhid = 128, nlayers = 6, seq_len=80, use_decoder = True),\n",
    "                opt_func= QHAdam,\n",
    "                loss_func = vppAutoLoss, #vppAutoSmoothL1Loss \n",
    "                metrics=[vppMetric, vppGenMetric], \n",
    "                cbs=[ShowGraphCallback()]).to_fp16() \n",
    "\n",
    "learn.fit_one_cycle(EPOCHS, 2e-3) "
   ]
  },
  {
   "cell_type": "markdown",
   "metadata": {},
   "source": [
    "Th CV score after 100 epochs is 0.227013 for vppMetric and 0.255794 for vppGenMetric. Leaderboard scores for this singele model training in the entire train-dataset were 0.2090 private LB and 0.2091 public LB."
   ]
  },
  {
   "cell_type": "markdown",
   "metadata": {},
   "source": [
    "# References\n",
    "- Competition Home Page: https://www.kaggle.com/c/ventilator-pressure-prediction\n",
    "- Area features: https://www.kaggle.com/cdeotte/ensemble-folds-with-median-0-153\n",
    "- Memory reduction: https://www.kaggle.com/konradb/tabnet-end-to-end-starter\n",
    "- Dataloader from numpy: https://www.kaggle.com/junkoda/pytorch-lstm-with-tensorflow-like-initialization\n",
    "- Dropout discussion: https://www.kaggle.com/c/ventilator-pressure-prediction/discussion/276719\n",
    "- Transformer model: https://pytorch.org/tutorials/beginner/transformer_tutorial.html\n",
    "- LSTM model: https://www.kaggle.com/theoviel/deep-learning-starter-simple-lstm\n",
    "- LSTM parameter initialization: https://www.kaggle.com/junkoda/pytorch-lstm-with-tensorflow-like-initialization\n",
    "- SmoothL1Loss discussion: https://www.kaggle.com/c/ventilator-pressure-prediction/discussion/277690"
   ]
  },
  {
   "cell_type": "code",
   "execution_count": null,
   "metadata": {},
   "outputs": [],
   "source": []
  }
 ],
 "metadata": {
  "kernelspec": {
   "display_name": "Python 3.10.4 64-bit",
   "language": "python",
   "name": "python3"
  },
  "language_info": {
   "codemirror_mode": {
    "name": "ipython",
    "version": 3
   },
   "file_extension": ".py",
   "mimetype": "text/x-python",
   "name": "python",
   "nbconvert_exporter": "python",
   "pygments_lexer": "ipython3",
   "version": "3.10.4"
  },
  "vscode": {
   "interpreter": {
    "hash": "916dbcbb3f70747c44a77c7bcd40155683ae19c65e1c03b4aa3499c5328201f1"
   }
  }
 },
 "nbformat": 4,
 "nbformat_minor": 4
}
